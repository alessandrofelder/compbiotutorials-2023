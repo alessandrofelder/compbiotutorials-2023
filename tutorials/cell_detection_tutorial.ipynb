{
 "cells": [
  {
   "attachments": {},
   "cell_type": "markdown",
   "metadata": {},
   "source": [
    "# Cell detection with BrainGlobe\n",
    "\n",
    "This tutorial will guide you through the steps required to detect cells in a (cropped) 3D microscopy dataset.\n",
    "First, we will import some functionality from the BrainGlobe cellfinder package and the `os` module from the Python standard library."
   ]
  },
  {
   "cell_type": "code",
   "execution_count": 1,
   "metadata": {},
   "outputs": [
    {
     "name": "stderr",
     "output_type": "stream",
     "text": [
      "2023-06-01 16:12:44.189486: I tensorflow/core/platform/cpu_feature_guard.cc:193] This TensorFlow binary is optimized with oneAPI Deep Neural Network Library (oneDNN) to use the following CPU instructions in performance-critical operations:  AVX2 AVX_VNNI FMA\n",
      "To enable them in other operations, rebuild TensorFlow with the appropriate compiler flags.\n",
      "2023-06-01 16:12:44.257903: I tensorflow/core/util/port.cc:104] oneDNN custom operations are on. You may see slightly different numerical results due to floating-point round-off errors from different computation orders. To turn them off, set the environment variable `TF_ENABLE_ONEDNN_OPTS=0`.\n",
      "2023-06-01 16:12:44.260038: W tensorflow/compiler/xla/stream_executor/platform/default/dso_loader.cc:64] Could not load dynamic library 'libcudart.so.11.0'; dlerror: libcudart.so.11.0: cannot open shared object file: No such file or directory\n",
      "2023-06-01 16:12:44.260049: I tensorflow/compiler/xla/stream_executor/cuda/cudart_stub.cc:29] Ignore above cudart dlerror if you do not have a GPU set up on your machine.\n",
      "2023-06-01 16:12:44.626469: W tensorflow/compiler/xla/stream_executor/platform/default/dso_loader.cc:64] Could not load dynamic library 'libnvinfer.so.7'; dlerror: libnvinfer.so.7: cannot open shared object file: No such file or directory\n",
      "2023-06-01 16:12:44.626505: W tensorflow/compiler/xla/stream_executor/platform/default/dso_loader.cc:64] Could not load dynamic library 'libnvinfer_plugin.so.7'; dlerror: libnvinfer_plugin.so.7: cannot open shared object file: No such file or directory\n",
      "2023-06-01 16:12:44.626509: W tensorflow/compiler/tf2tensorrt/utils/py_utils.cc:38] TF-TRT Warning: Cannot dlopen some TensorRT libraries. If you would like to use Nvidia GPU with TensorRT, please make sure the missing libraries mentioned above are installed properly.\n"
     ]
    }
   ],
   "source": [
    "import os\n",
    "\n",
    "from cellfinder_core.main import main\n",
    "from cellfinder_core.tools.IO import read_with_dask\n"
   ]
  },
  {
   "attachments": {},
   "cell_type": "markdown",
   "metadata": {},
   "source": [
    "Next, we read in some test data."
   ]
  },
  {
   "cell_type": "code",
   "execution_count": 2,
   "metadata": {},
   "outputs": [],
   "source": [
    "data_dir = os.path.join(\n",
    "    os.getcwd(), \"data\"\n",
    ")\n",
    "signal_data_path = os.path.join(data_dir, \"crop_planes\", \"ch0\")\n",
    "background_data_path = os.path.join(data_dir, \"crop_planes\", \"ch1\")\n",
    "\n",
    "signal_array = read_with_dask(signal_data_path)\n",
    "background_array = read_with_dask(background_data_path)\n"
   ]
  },
  {
   "attachments": {},
   "cell_type": "markdown",
   "metadata": {},
   "source": [
    "Finally, we pass the test data to the main cell detection function, and print the output: the detected cells."
   ]
  },
  {
   "cell_type": "code",
   "execution_count": 3,
   "metadata": {},
   "outputs": [
    {
     "name": "stderr",
     "output_type": "stream",
     "text": [
      "Processing planes:   3%|▎         | 1/30 [00:01<00:45,  1.58s/it]<string>:3: NumbaTypeSafetyWarning: \u001b[1m\u001b[1m\u001b[1m\u001b[1m\u001b[1m\u001b[1m\u001b[1m\u001b[1munsafe cast from uint64 to int64. Precision may be lost.\u001b[0m\u001b[0m\u001b[0m\u001b[0m\u001b[0m\u001b[0m\u001b[0m\u001b[0m\n",
      "Processing planes: 100%|██████████| 30/30 [00:09<00:00,  3.15it/s]\n",
      "/home/alessandro/mambaforge/envs/compbiotutorials-2023/lib/python3.10/site-packages/numba/typed/typeddict.py:39: NumbaTypeSafetyWarning: \u001b[1m\u001b[1m\u001b[1munsafe cast from int64 to uint64. Precision may be lost.\u001b[0m\u001b[0m\u001b[0m\n",
      "  return d[key]\n"
     ]
    },
    {
     "name": "stdout",
     "output_type": "stream",
     "text": [
      "Detection complete - all planes done in : 0:00:10.753746\n"
     ]
    },
    {
     "name": "stderr",
     "output_type": "stream",
     "text": [
      "2023-06-01 16:12:55.941972: W tensorflow/compiler/xla/stream_executor/platform/default/dso_loader.cc:64] Could not load dynamic library 'libcuda.so.1'; dlerror: libcuda.so.1: cannot open shared object file: No such file or directory\n",
      "2023-06-01 16:12:55.941998: W tensorflow/compiler/xla/stream_executor/cuda/cuda_driver.cc:265] failed call to cuInit: UNKNOWN ERROR (303)\n",
      "2023-06-01 16:12:55.942010: I tensorflow/compiler/xla/stream_executor/cuda/cuda_diagnostics.cc:156] kernel driver does not appear to be running on this host (support-XPS-8950): /proc/driver/nvidia/version does not exist\n",
      "2023-06-01 16:12:55.952422: I tensorflow/core/platform/cpu_feature_guard.cc:193] This TensorFlow binary is optimized with oneAPI Deep Neural Network Library (oneDNN) to use the following CPU instructions in performance-critical operations:  AVX2 AVX_VNNI FMA\n",
      "To enable them in other operations, rebuild TensorFlow with the appropriate compiler flags.\n"
     ]
    },
    {
     "name": "stdout",
     "output_type": "stream",
     "text": [
      "11/11 [==============================] - 2s 105ms/step\n",
      "[<class 'imlib.cells.cells.Cell'>, ([132, 308, 10], 2), <class 'imlib.cells.cells.Cell'>, ([216, 492, 14], 2), <class 'imlib.cells.cells.Cell'>, ([223, 133, 14], 2), <class 'imlib.cells.cells.Cell'>, ([195, 209, 14], 2), <class 'imlib.cells.cells.Cell'>, ([240, 253, 14], 2), <class 'imlib.cells.cells.Cell'>, ([159, 318, 14], 2), <class 'imlib.cells.cells.Cell'>, ([208, 338, 14], 2), <class 'imlib.cells.cells.Cell'>, ([317, 125, 12], 2), <class 'imlib.cells.cells.Cell'>, ([119, 165, 12], 2), <class 'imlib.cells.cells.Cell'>, ([205, 244, 12], 2), <class 'imlib.cells.cells.Cell'>, ([125, 264, 12], 2), <class 'imlib.cells.cells.Cell'>, ([274, 310, 12], 2), <class 'imlib.cells.cells.Cell'>, ([122, 338, 12], 2), <class 'imlib.cells.cells.Cell'>, ([630, 359, 12], 2), <class 'imlib.cells.cells.Cell'>, ([163, 403, 12], 2), <class 'imlib.cells.cells.Cell'>, ([185, 296, 12], 2), <class 'imlib.cells.cells.Cell'>, ([171, 297, 12], 2), <class 'imlib.cells.cells.Cell'>, ([103, 303, 12], 2), <class 'imlib.cells.cells.Cell'>, ([142, 159, 12], 2), <class 'imlib.cells.cells.Cell'>, ([187, 153, 13], 2), <class 'imlib.cells.cells.Cell'>, ([207, 443, 13], 2), <class 'imlib.cells.cells.Cell'>, ([156, 400, 13], 2), <class 'imlib.cells.cells.Cell'>, ([128, 421, 13], 2), <class 'imlib.cells.cells.Cell'>, ([196, 462, 13], 2), <class 'imlib.cells.cells.Cell'>, ([319, 211, 11], 2), <class 'imlib.cells.cells.Cell'>, ([48, 482, 11], 2), <class 'imlib.cells.cells.Cell'>, ([304, 110, 11], 2), <class 'imlib.cells.cells.Cell'>, ([141, 158, 11], 2), <class 'imlib.cells.cells.Cell'>, ([236, 212, 15], 2), <class 'imlib.cells.cells.Cell'>, ([223, 269, 15], 2), <class 'imlib.cells.cells.Cell'>, ([165, 293, 15], 2), <class 'imlib.cells.cells.Cell'>, ([138, 296, 15], 2), <class 'imlib.cells.cells.Cell'>, ([188, 333, 15], 2), <class 'imlib.cells.cells.Cell'>, ([214, 352, 15], 2), <class 'imlib.cells.cells.Cell'>, ([236, 358, 15], 2), <class 'imlib.cells.cells.Cell'>, ([214, 462, 15], 2), <class 'imlib.cells.cells.Cell'>, ([234, 233, 15], 2), <class 'imlib.cells.cells.Cell'>, ([189, 252, 15], 2), <class 'imlib.cells.cells.Cell'>, ([145, 272, 15], 2), <class 'imlib.cells.cells.Cell'>, ([57, 296, 15], 2), <class 'imlib.cells.cells.Cell'>, ([142, 421, 15], 2), <class 'imlib.cells.cells.Cell'>, ([98, 342, 15], 2), <class 'imlib.cells.cells.Cell'>, ([213, 277, 17], 2), <class 'imlib.cells.cells.Cell'>, ([597, 254, 17], 2), <class 'imlib.cells.cells.Cell'>, ([415, 143, 17], 2), <class 'imlib.cells.cells.Cell'>, ([198, 331, 17], 2), <class 'imlib.cells.cells.Cell'>, ([129, 422, 17], 2), <class 'imlib.cells.cells.Cell'>, ([165, 305, 19], 2), <class 'imlib.cells.cells.Cell'>, ([183, 424, 16], 2), <class 'imlib.cells.cells.Cell'>, ([203, 381, 16], 2), <class 'imlib.cells.cells.Cell'>, ([278, 237, 16], 2), <class 'imlib.cells.cells.Cell'>, ([187, 295, 16], 2), <class 'imlib.cells.cells.Cell'>, ([158, 400, 16], 2), <class 'imlib.cells.cells.Cell'>, ([99, 342, 18], 2), <class 'imlib.cells.cells.Cell'>, ([198, 429, 18], 2), <class 'imlib.cells.cells.Cell'>, ([240, 468, 18], 2), <class 'imlib.cells.cells.Cell'>, ([120, 368, 20], 2)]\n"
     ]
    }
   ],
   "source": [
    "\n",
    "voxel_sizes = [5,2,2]\n",
    "\n",
    "detected_cells = main(\n",
    "    signal_array,\n",
    "    background_array,\n",
    "    voxel_sizes,\n",
    "    n_free_cpus=1,\n",
    ")\n",
    "\n",
    "print(detected_cells)"
   ]
  },
  {
   "attachments": {},
   "cell_type": "markdown",
   "metadata": {},
   "source": [
    "We can also visualise the cells alongside the input images in a 3D image viewer called `napari`."
   ]
  },
  {
   "cell_type": "code",
   "execution_count": 8,
   "metadata": {},
   "outputs": [
    {
     "name": "stderr",
     "output_type": "stream",
     "text": [
      "/home/alessandro/mambaforge/envs/compbiotutorials-2023/lib/python3.10/site-packages/napari/layers/base/base.py:1632: RuntimeWarning: invalid value encountered in cast\n",
      "  corners[:, displayed_axes] = data_bbox_clipped\n",
      "/home/alessandro/mambaforge/envs/compbiotutorials-2023/lib/python3.10/site-packages/napari/layers/base/base.py:1632: RuntimeWarning: invalid value encountered in cast\n",
      "  corners[:, displayed_axes] = data_bbox_clipped\n",
      "/home/alessandro/mambaforge/envs/compbiotutorials-2023/lib/python3.10/site-packages/napari/layers/base/base.py:1632: RuntimeWarning: invalid value encountered in cast\n",
      "  corners[:, displayed_axes] = data_bbox_clipped\n",
      "/home/alessandro/mambaforge/envs/compbiotutorials-2023/lib/python3.10/site-packages/napari/layers/base/base.py:1632: RuntimeWarning: invalid value encountered in cast\n",
      "  corners[:, displayed_axes] = data_bbox_clipped\n",
      "/home/alessandro/mambaforge/envs/compbiotutorials-2023/lib/python3.10/site-packages/napari/layers/base/base.py:1632: RuntimeWarning: invalid value encountered in cast\n",
      "  corners[:, displayed_axes] = data_bbox_clipped\n",
      "/home/alessandro/mambaforge/envs/compbiotutorials-2023/lib/python3.10/site-packages/napari/layers/base/base.py:1632: RuntimeWarning: invalid value encountered in cast\n",
      "  corners[:, displayed_axes] = data_bbox_clipped\n",
      "/home/alessandro/mambaforge/envs/compbiotutorials-2023/lib/python3.10/site-packages/napari/layers/base/base.py:1632: RuntimeWarning: invalid value encountered in cast\n",
      "  corners[:, displayed_axes] = data_bbox_clipped\n",
      "/home/alessandro/mambaforge/envs/compbiotutorials-2023/lib/python3.10/site-packages/napari/layers/base/base.py:1632: RuntimeWarning: invalid value encountered in cast\n",
      "  corners[:, displayed_axes] = data_bbox_clipped\n",
      "/home/alessandro/mambaforge/envs/compbiotutorials-2023/lib/python3.10/site-packages/napari/layers/base/base.py:1632: RuntimeWarning: invalid value encountered in cast\n",
      "  corners[:, displayed_axes] = data_bbox_clipped\n",
      "/home/alessandro/mambaforge/envs/compbiotutorials-2023/lib/python3.10/site-packages/napari/layers/base/base.py:1632: RuntimeWarning: invalid value encountered in cast\n",
      "  corners[:, displayed_axes] = data_bbox_clipped\n",
      "/home/alessandro/mambaforge/envs/compbiotutorials-2023/lib/python3.10/site-packages/napari/layers/base/base.py:1632: RuntimeWarning: invalid value encountered in cast\n",
      "  corners[:, displayed_axes] = data_bbox_clipped\n",
      "/home/alessandro/mambaforge/envs/compbiotutorials-2023/lib/python3.10/site-packages/napari/layers/base/base.py:1632: RuntimeWarning: invalid value encountered in cast\n",
      "  corners[:, displayed_axes] = data_bbox_clipped\n",
      "/home/alessandro/mambaforge/envs/compbiotutorials-2023/lib/python3.10/site-packages/napari/layers/base/base.py:1632: RuntimeWarning: invalid value encountered in cast\n",
      "  corners[:, displayed_axes] = data_bbox_clipped\n",
      "/home/alessandro/mambaforge/envs/compbiotutorials-2023/lib/python3.10/site-packages/napari/layers/base/base.py:1632: RuntimeWarning: invalid value encountered in cast\n",
      "  corners[:, displayed_axes] = data_bbox_clipped\n",
      "/home/alessandro/mambaforge/envs/compbiotutorials-2023/lib/python3.10/site-packages/napari/layers/base/base.py:1632: RuntimeWarning: invalid value encountered in cast\n",
      "  corners[:, displayed_axes] = data_bbox_clipped\n",
      "/home/alessandro/mambaforge/envs/compbiotutorials-2023/lib/python3.10/site-packages/napari/layers/base/base.py:1632: RuntimeWarning: invalid value encountered in cast\n",
      "  corners[:, displayed_axes] = data_bbox_clipped\n",
      "/home/alessandro/mambaforge/envs/compbiotutorials-2023/lib/python3.10/site-packages/napari/layers/base/base.py:1632: RuntimeWarning: invalid value encountered in cast\n",
      "  corners[:, displayed_axes] = data_bbox_clipped\n",
      "/home/alessandro/mambaforge/envs/compbiotutorials-2023/lib/python3.10/site-packages/napari/layers/base/base.py:1632: RuntimeWarning: invalid value encountered in cast\n",
      "  corners[:, displayed_axes] = data_bbox_clipped\n",
      "/home/alessandro/mambaforge/envs/compbiotutorials-2023/lib/python3.10/site-packages/napari/layers/base/base.py:1632: RuntimeWarning: invalid value encountered in cast\n",
      "  corners[:, displayed_axes] = data_bbox_clipped\n",
      "/home/alessandro/mambaforge/envs/compbiotutorials-2023/lib/python3.10/site-packages/napari/layers/base/base.py:1632: RuntimeWarning: invalid value encountered in cast\n",
      "  corners[:, displayed_axes] = data_bbox_clipped\n",
      "/home/alessandro/mambaforge/envs/compbiotutorials-2023/lib/python3.10/site-packages/napari/layers/base/base.py:1632: RuntimeWarning: invalid value encountered in cast\n",
      "  corners[:, displayed_axes] = data_bbox_clipped\n",
      "/home/alessandro/mambaforge/envs/compbiotutorials-2023/lib/python3.10/site-packages/napari/layers/base/base.py:1632: RuntimeWarning: invalid value encountered in cast\n",
      "  corners[:, displayed_axes] = data_bbox_clipped\n",
      "/home/alessandro/mambaforge/envs/compbiotutorials-2023/lib/python3.10/site-packages/napari/layers/base/base.py:1632: RuntimeWarning: invalid value encountered in cast\n",
      "  corners[:, displayed_axes] = data_bbox_clipped\n",
      "/home/alessandro/mambaforge/envs/compbiotutorials-2023/lib/python3.10/site-packages/napari/layers/base/base.py:1632: RuntimeWarning: invalid value encountered in cast\n",
      "  corners[:, displayed_axes] = data_bbox_clipped\n",
      "/home/alessandro/mambaforge/envs/compbiotutorials-2023/lib/python3.10/site-packages/napari/layers/base/base.py:1632: RuntimeWarning: invalid value encountered in cast\n",
      "  corners[:, displayed_axes] = data_bbox_clipped\n",
      "/home/alessandro/mambaforge/envs/compbiotutorials-2023/lib/python3.10/site-packages/napari/layers/base/base.py:1632: RuntimeWarning: invalid value encountered in cast\n",
      "  corners[:, displayed_axes] = data_bbox_clipped\n",
      "/home/alessandro/mambaforge/envs/compbiotutorials-2023/lib/python3.10/site-packages/napari/layers/base/base.py:1632: RuntimeWarning: invalid value encountered in cast\n",
      "  corners[:, displayed_axes] = data_bbox_clipped\n",
      "/home/alessandro/mambaforge/envs/compbiotutorials-2023/lib/python3.10/site-packages/napari/layers/base/base.py:1632: RuntimeWarning: invalid value encountered in cast\n",
      "  corners[:, displayed_axes] = data_bbox_clipped\n",
      "/home/alessandro/mambaforge/envs/compbiotutorials-2023/lib/python3.10/site-packages/napari/layers/base/base.py:1632: RuntimeWarning: invalid value encountered in cast\n",
      "  corners[:, displayed_axes] = data_bbox_clipped\n",
      "/home/alessandro/mambaforge/envs/compbiotutorials-2023/lib/python3.10/site-packages/napari/layers/base/base.py:1632: RuntimeWarning: invalid value encountered in cast\n",
      "  corners[:, displayed_axes] = data_bbox_clipped\n",
      "/home/alessandro/mambaforge/envs/compbiotutorials-2023/lib/python3.10/site-packages/napari/layers/base/base.py:1632: RuntimeWarning: invalid value encountered in cast\n",
      "  corners[:, displayed_axes] = data_bbox_clipped\n",
      "/home/alessandro/mambaforge/envs/compbiotutorials-2023/lib/python3.10/site-packages/napari/layers/base/base.py:1632: RuntimeWarning: invalid value encountered in cast\n",
      "  corners[:, displayed_axes] = data_bbox_clipped\n",
      "/home/alessandro/mambaforge/envs/compbiotutorials-2023/lib/python3.10/site-packages/napari/layers/base/base.py:1632: RuntimeWarning: invalid value encountered in cast\n",
      "  corners[:, displayed_axes] = data_bbox_clipped\n",
      "/home/alessandro/mambaforge/envs/compbiotutorials-2023/lib/python3.10/site-packages/napari/layers/base/base.py:1632: RuntimeWarning: invalid value encountered in cast\n",
      "  corners[:, displayed_axes] = data_bbox_clipped\n",
      "/home/alessandro/mambaforge/envs/compbiotutorials-2023/lib/python3.10/site-packages/napari/layers/base/base.py:1632: RuntimeWarning: invalid value encountered in cast\n",
      "  corners[:, displayed_axes] = data_bbox_clipped\n",
      "/home/alessandro/mambaforge/envs/compbiotutorials-2023/lib/python3.10/site-packages/napari/layers/base/base.py:1632: RuntimeWarning: invalid value encountered in cast\n",
      "  corners[:, displayed_axes] = data_bbox_clipped\n",
      "/home/alessandro/mambaforge/envs/compbiotutorials-2023/lib/python3.10/site-packages/napari/layers/base/base.py:1632: RuntimeWarning: invalid value encountered in cast\n",
      "  corners[:, displayed_axes] = data_bbox_clipped\n",
      "/home/alessandro/mambaforge/envs/compbiotutorials-2023/lib/python3.10/site-packages/napari/layers/base/base.py:1632: RuntimeWarning: invalid value encountered in cast\n",
      "  corners[:, displayed_axes] = data_bbox_clipped\n",
      "/home/alessandro/mambaforge/envs/compbiotutorials-2023/lib/python3.10/site-packages/napari/layers/base/base.py:1632: RuntimeWarning: invalid value encountered in cast\n",
      "  corners[:, displayed_axes] = data_bbox_clipped\n",
      "/home/alessandro/mambaforge/envs/compbiotutorials-2023/lib/python3.10/site-packages/napari/layers/base/base.py:1632: RuntimeWarning: invalid value encountered in cast\n",
      "  corners[:, displayed_axes] = data_bbox_clipped\n",
      "/home/alessandro/mambaforge/envs/compbiotutorials-2023/lib/python3.10/site-packages/napari/layers/base/base.py:1632: RuntimeWarning: invalid value encountered in cast\n",
      "  corners[:, displayed_axes] = data_bbox_clipped\n",
      "/home/alessandro/mambaforge/envs/compbiotutorials-2023/lib/python3.10/site-packages/napari/layers/base/base.py:1632: RuntimeWarning: invalid value encountered in cast\n",
      "  corners[:, displayed_axes] = data_bbox_clipped\n",
      "/home/alessandro/mambaforge/envs/compbiotutorials-2023/lib/python3.10/site-packages/napari/layers/base/base.py:1632: RuntimeWarning: invalid value encountered in cast\n",
      "  corners[:, displayed_axes] = data_bbox_clipped\n",
      "/home/alessandro/mambaforge/envs/compbiotutorials-2023/lib/python3.10/site-packages/napari/layers/base/base.py:1632: RuntimeWarning: invalid value encountered in cast\n",
      "  corners[:, displayed_axes] = data_bbox_clipped\n",
      "/home/alessandro/mambaforge/envs/compbiotutorials-2023/lib/python3.10/site-packages/napari/layers/base/base.py:1632: RuntimeWarning: invalid value encountered in cast\n",
      "  corners[:, displayed_axes] = data_bbox_clipped\n",
      "/home/alessandro/mambaforge/envs/compbiotutorials-2023/lib/python3.10/site-packages/napari/layers/base/base.py:1632: RuntimeWarning: invalid value encountered in cast\n",
      "  corners[:, displayed_axes] = data_bbox_clipped\n",
      "/home/alessandro/mambaforge/envs/compbiotutorials-2023/lib/python3.10/site-packages/napari/layers/base/base.py:1632: RuntimeWarning: invalid value encountered in cast\n",
      "  corners[:, displayed_axes] = data_bbox_clipped\n",
      "/home/alessandro/mambaforge/envs/compbiotutorials-2023/lib/python3.10/site-packages/napari/layers/base/base.py:1632: RuntimeWarning: invalid value encountered in cast\n",
      "  corners[:, displayed_axes] = data_bbox_clipped\n",
      "/home/alessandro/mambaforge/envs/compbiotutorials-2023/lib/python3.10/site-packages/napari/layers/base/base.py:1632: RuntimeWarning: invalid value encountered in cast\n",
      "  corners[:, displayed_axes] = data_bbox_clipped\n",
      "/home/alessandro/mambaforge/envs/compbiotutorials-2023/lib/python3.10/site-packages/napari/layers/base/base.py:1632: RuntimeWarning: invalid value encountered in cast\n",
      "  corners[:, displayed_axes] = data_bbox_clipped\n",
      "/home/alessandro/mambaforge/envs/compbiotutorials-2023/lib/python3.10/site-packages/napari/layers/base/base.py:1632: RuntimeWarning: invalid value encountered in cast\n",
      "  corners[:, displayed_axes] = data_bbox_clipped\n",
      "/home/alessandro/mambaforge/envs/compbiotutorials-2023/lib/python3.10/site-packages/napari/layers/base/base.py:1632: RuntimeWarning: invalid value encountered in cast\n",
      "  corners[:, displayed_axes] = data_bbox_clipped\n",
      "/home/alessandro/mambaforge/envs/compbiotutorials-2023/lib/python3.10/site-packages/napari/layers/base/base.py:1632: RuntimeWarning: invalid value encountered in cast\n",
      "  corners[:, displayed_axes] = data_bbox_clipped\n",
      "/home/alessandro/mambaforge/envs/compbiotutorials-2023/lib/python3.10/site-packages/napari/layers/base/base.py:1632: RuntimeWarning: invalid value encountered in cast\n",
      "  corners[:, displayed_axes] = data_bbox_clipped\n",
      "/home/alessandro/mambaforge/envs/compbiotutorials-2023/lib/python3.10/site-packages/napari/layers/base/base.py:1632: RuntimeWarning: invalid value encountered in cast\n",
      "  corners[:, displayed_axes] = data_bbox_clipped\n",
      "/home/alessandro/mambaforge/envs/compbiotutorials-2023/lib/python3.10/site-packages/napari/layers/base/base.py:1632: RuntimeWarning: invalid value encountered in cast\n",
      "  corners[:, displayed_axes] = data_bbox_clipped\n",
      "/home/alessandro/mambaforge/envs/compbiotutorials-2023/lib/python3.10/site-packages/napari/layers/base/base.py:1632: RuntimeWarning: invalid value encountered in cast\n",
      "  corners[:, displayed_axes] = data_bbox_clipped\n",
      "/home/alessandro/mambaforge/envs/compbiotutorials-2023/lib/python3.10/site-packages/napari/layers/base/base.py:1632: RuntimeWarning: invalid value encountered in cast\n",
      "  corners[:, displayed_axes] = data_bbox_clipped\n",
      "/home/alessandro/mambaforge/envs/compbiotutorials-2023/lib/python3.10/site-packages/napari/layers/base/base.py:1632: RuntimeWarning: invalid value encountered in cast\n",
      "  corners[:, displayed_axes] = data_bbox_clipped\n",
      "/home/alessandro/mambaforge/envs/compbiotutorials-2023/lib/python3.10/site-packages/napari/layers/base/base.py:1632: RuntimeWarning: invalid value encountered in cast\n",
      "  corners[:, displayed_axes] = data_bbox_clipped\n",
      "/home/alessandro/mambaforge/envs/compbiotutorials-2023/lib/python3.10/site-packages/napari/layers/base/base.py:1632: RuntimeWarning: invalid value encountered in cast\n",
      "  corners[:, displayed_axes] = data_bbox_clipped\n",
      "/home/alessandro/mambaforge/envs/compbiotutorials-2023/lib/python3.10/site-packages/napari/layers/base/base.py:1632: RuntimeWarning: invalid value encountered in cast\n",
      "  corners[:, displayed_axes] = data_bbox_clipped\n",
      "/home/alessandro/mambaforge/envs/compbiotutorials-2023/lib/python3.10/site-packages/napari/layers/base/base.py:1632: RuntimeWarning: invalid value encountered in cast\n",
      "  corners[:, displayed_axes] = data_bbox_clipped\n",
      "/home/alessandro/mambaforge/envs/compbiotutorials-2023/lib/python3.10/site-packages/napari/layers/base/base.py:1632: RuntimeWarning: invalid value encountered in cast\n",
      "  corners[:, displayed_axes] = data_bbox_clipped\n",
      "/home/alessandro/mambaforge/envs/compbiotutorials-2023/lib/python3.10/site-packages/napari/layers/base/base.py:1632: RuntimeWarning: invalid value encountered in cast\n",
      "  corners[:, displayed_axes] = data_bbox_clipped\n",
      "/home/alessandro/mambaforge/envs/compbiotutorials-2023/lib/python3.10/site-packages/napari/layers/base/base.py:1632: RuntimeWarning: invalid value encountered in cast\n",
      "  corners[:, displayed_axes] = data_bbox_clipped\n",
      "/home/alessandro/mambaforge/envs/compbiotutorials-2023/lib/python3.10/site-packages/napari/layers/base/base.py:1632: RuntimeWarning: invalid value encountered in cast\n",
      "  corners[:, displayed_axes] = data_bbox_clipped\n",
      "/home/alessandro/mambaforge/envs/compbiotutorials-2023/lib/python3.10/site-packages/napari/layers/base/base.py:1632: RuntimeWarning: invalid value encountered in cast\n",
      "  corners[:, displayed_axes] = data_bbox_clipped\n"
     ]
    }
   ],
   "source": [
    "from napari.viewer import Viewer\n",
    "\n",
    "viewer = Viewer()\n",
    "\n",
    "viewer.add_image(background_array, name=\"input background\")\n",
    "viewer.add_image(signal_array, name=\"input signal\")\n",
    "\n",
    "from cellfinder_napari.utils import add_layers\n",
    "\n",
    "add_layers(detected_cells, viewer)\n"
   ]
  }
 ],
 "metadata": {
  "kernelspec": {
   "display_name": "Python 3 (ipykernel)",
   "language": "python",
   "name": "python3"
  },
  "language_info": {
   "codemirror_mode": {
    "name": "ipython",
    "version": 3
   },
   "file_extension": ".py",
   "mimetype": "text/x-python",
   "name": "python",
   "nbconvert_exporter": "python",
   "pygments_lexer": "ipython3",
   "version": "3.10.11"
  }
 },
 "nbformat": 4,
 "nbformat_minor": 4
}
